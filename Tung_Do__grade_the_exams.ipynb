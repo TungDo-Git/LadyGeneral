{
  "nbformat": 4,
  "nbformat_minor": 0,
  "metadata": {
    "colab": {
      "name": "Tung_Do_DSP301x_assignment2.ipynb",
      "provenance": [],
      "collapsed_sections": [
        "skdoHfTElQcO",
        "ds00JUGcnVUE",
        "1ja3fme1uZYi"
      ],
      "mount_file_id": "1SspFPyLp4bZnaxEciINGNrSpBscfZfAl",
      "authorship_tag": "ABX9TyMqzDavjFCPFEAxO6EhTVnF",
      "include_colab_link": true
    },
    "kernelspec": {
      "name": "python3",
      "display_name": "Python 3"
    },
    "language_info": {
      "name": "python"
    }
  },
  "cells": [
    {
      "cell_type": "markdown",
      "metadata": {
        "id": "view-in-github",
        "colab_type": "text"
      },
      "source": [
        "<a href=\"https://colab.research.google.com/github/TungDo-Git/LadyGeneral/blob/master/Tung_Do__grade_the_exams.ipynb\" target=\"_parent\"><img src=\"https://colab.research.google.com/assets/colab-badge.svg\" alt=\"Open In Colab\"/></a>"
      ]
    },
    {
      "cell_type": "markdown",
      "metadata": {
        "id": "skdoHfTElQcO"
      },
      "source": [
        "#Task 1\n"
      ]
    },
    {
      "cell_type": "markdown",
      "metadata": {
        "id": "SLmwv67O5U7q"
      },
      "source": [
        "Tiếp theo, viết một chương trình cho phép người dùng nhập tên của một tệp. Cố gắng mở tệp được cung cấp để truy cập đọc. Nếu tệp tồn tại, bạn có thể in ra một thông báo xác nhận. Nếu tệp không tồn tại, bạn nên cho người dùng biết rằng không thể tìm thấy tệp và nhắc lại họ.\n",
        "\n",
        "Sử dụng try/except để thực hiện việc này (đừng chỉ sử dụng một loạt câu lệnh “if” — chúng tôi muốn chương trình này càng “chung chung” càng tốt)"
      ]
    },
    {
      "cell_type": "markdown",
      "metadata": {
        "id": "3Hd_AVKp5O-S"
      },
      "source": [
        "#Task 1 result"
      ]
    },
    {
      "cell_type": "code",
      "metadata": {
        "colab": {
          "base_uri": "https://localhost:8080/"
        },
        "id": "aNVV7Kk9kzB5",
        "outputId": "f89c7224-7751-49c4-e4f1-b64ff00932fe"
      },
      "source": [
        "while True:\n",
        "  try:\n",
        "    path = input(\"Nhap duong dan den file: \")\n",
        "    if path:\n",
        "      with open(path, \"r\") as file:\n",
        "        print(\"Successfully opened {}\".format(path))\n",
        "        data = file.read().split('\\n')\n",
        "      break\n",
        "  except FileNotFoundError:\n",
        "    print(\"{} not found\".format(path))\n",
        "    continue"
      ],
      "execution_count": null,
      "outputs": [
        {
          "output_type": "stream",
          "name": "stdout",
          "text": [
            "Nhap duong dan den file: class3.txt\n",
            "Successfully opened class3.txt\n"
          ]
        }
      ]
    },
    {
      "cell_type": "markdown",
      "metadata": {
        "id": "ds00JUGcnVUE"
      },
      "source": [
        "#Task 2\n",
        "\n",
        "\n"
      ]
    },
    {
      "cell_type": "markdown",
      "metadata": {
        "id": "J_nTpr1IujPP"
      },
      "source": [
        "Tiếp theo, bạn sẽ cần phân tích dữ liệu có trong tệp bạn vừa mở để đảm bảo rằng nó ở đúng định dạng. Mỗi tệp dữ liệu chứa một loạt câu trả lời của học sinh ở định dạng sau:\n",
        "\n",
        "* N12345678,B,A,D,D,C,B,D,A,C,C,D,B,A,B,A,C,B,D,A,C,A,A,B,D,D\n",
        "hoặc\n",
        "\n",
        "* N12345678,B,,D,,C,B,,A,C,C,,B,A,B,A,,,,A,C,A,A,B,D,\n",
        "Giá trị đầu tiên là số ID của sinh viên. 25 chữ cái sau là câu trả lời của học sinh cho kỳ thi. Tất cả các giá trị được phân tách bằng dấu phẩy. Nếu không có chữ cái nào sau dấu phẩy, điều này có nghĩa là học sinh đã bỏ qua việc trả lời câu hỏi.\n",
        "Lưu ý rằng một số dòng dữ liệu có thể bị hỏng! Ví dụ: dòng dữ liệu này không có đủ câu trả lời:\n",
        "\n",
        "* N12345678,B,A,D,D,C,B\n",
        "\n",
        "Và dòng dữ liệu này có quá nhiều câu trả lời:\n",
        "\n",
        "* N12345678,B,A,D,D,C,B,D,A,C,C,D,B,A,B,A,C,B,D,A,C,A,A,B,D,D,A,B,C,D,E\n",
        "Nhiệm vụ của bạn cho phần này của chương trình là thực hiện như sau:\n",
        "\n",
        "1. Báo cáo tổng số dòng dữ liệu được lưu trữ trong tệp.\n",
        "2. Phân tích từng dòng và đảm bảo rằng nó là \"hợp lệ\".\n",
        "  * Một dòng hợp lệ chứa danh sách 26 giá trị được phân tách bằng dấu phẩy\n",
        "  * N# cho một học sinh là mục đầu tiên trên dòng. Nó phải chứa ký tự “N” theo sau là 8 ký tự số.\n",
        "3. Nếu một dòng dữ liệu không hợp lệ, bạn nên báo cáo cho người dùng bằng cách in ra một thông báo lỗi. Bạn cũng nên đếm tổng số dòng dữ liệu hợp lệ trong tệp.\n",
        "\n",
        "*Gợi ý: Sử dụng phương pháp split để tách dữ liệu ra khỏi tệp. Bạn có thể cần sử dụng phương pháp này một vài lần cùng với một hoặc hai vòng lặp. Hãy suy nghĩ về thứ tự mà bạn cần chia các mục của mình. Ví dụ: tệp của bạn được sắp xếp sao cho hồ sơ của một học sinh chiếm toàn bộ dòng trong tệp. Việc tách trước khi ngắt dòng sẽ tách biệt dữ liệu của từng học sinh. Sau đó, bạn sẽ cần phải chia nhỏ từng mục dựa trên ký tự phân tách để rút ra câu trả lời cho từng học sinh.*\n",
        "\n",
        "Đây là một mẫu chạy chương trình của bạn cho hai tệp dữ liệu đầu tiên. Bạn có thể tìm thấy danh sách đầy đủ đầu ra dự kiến cho tất cả các tệp dữ liệu trong gói có thể tải xuống cho bài tập này."
      ]
    },
    {
      "cell_type": "markdown",
      "metadata": {
        "id": "jQCO8Lx-5Mik"
      },
      "source": [
        "#Task 2 result"
      ]
    },
    {
      "cell_type": "code",
      "metadata": {
        "colab": {
          "base_uri": "https://localhost:8080/"
        },
        "id": "zNuVYeefnVFE",
        "outputId": "04a710fd-1435-4072-f744-6ea68102f408"
      },
      "source": [
        "print(\"****ANALYZING****\")\n",
        "line_count = len(data)\n",
        "invalid_line = 0\n",
        "valid_answers = []\n",
        "for line in data:\n",
        "  line_elements = line.split(\",\")\n",
        "  if (len(line_elements) != 26) or (line_elements[0][0] != \"N\") or (not line_elements[0][1:].isnumeric()) or (len(line_elements[0])!=9):\n",
        "    invalid_line += 1\n",
        "    if (len(line_elements) != 26):\n",
        "      print(\"Invalid line of data: does not contain exactly 26 values:\")\n",
        "    if (line_elements[0][0] != \"N\") or (not line_elements[0][1:].isnumeric()) or (len(line_elements[0])!=9):\n",
        "      print(\"Invalid line of data: N# is invalid\")\n",
        "    print(line)\n",
        "  else:\n",
        "    valid_answers.append(line)\n",
        "if not invalid_line:\n",
        "    print(\"No errors found!\")\n",
        "\n",
        "print(\"****REPORT****\") \n",
        "print(\"Total valid lines of data: {}\".format(line_count - invalid_line))\n",
        "print(\"Total invalid lines of data: {}\".format(invalid_line))\n",
        "\n"
      ],
      "execution_count": null,
      "outputs": [
        {
          "output_type": "stream",
          "name": "stdout",
          "text": [
            "****ANALYZING****\n",
            "No errors found!\n",
            "****REPORT****\n",
            "Total valid lines of data: 100\n",
            "Total invalid lines of data: 0\n"
          ]
        }
      ]
    },
    {
      "cell_type": "markdown",
      "metadata": {
        "id": "1ja3fme1uZYi"
      },
      "source": [
        "#Task 3"
      ]
    },
    {
      "cell_type": "markdown",
      "metadata": {
        "id": "VBQPW_r9u9Bw"
      },
      "source": [
        "Tiếp theo, bạn sẽ viết một chương trình để chấm điểm các bài thi cho một phần nhất định. Kỳ thi gồm 25 câu hỏi, trắc nghiệm. Đây là một chuỗi đại diện cho các câu trả lời:\n",
        "\n",
        "answer_key = \"B,A,D,D,C,B,D,A,C,C,D,B,A,B,A,C,B,D,A,C,A,A,B,D,D\"\n",
        "Chương trình của bạn nên sử dụng những câu trả lời này để tính điểm cho mỗi dòng dữ liệu hợp lệ. Điểm có thể được tính như sau:\n",
        "\n",
        "* +4 điểm cho mỗi câu trả lời đúng\n",
        "* 0 điểm cho mỗi câu trả lời bị bỏ qua\n",
        "* -1 điểm cho mỗi câu trả lời sai\n",
        "Bạn cũng sẽ muốn tính toán các thống kê sau cho toàn bộ lớp:\n",
        "\n",
        "* Điểm trung bình\n",
        "* Điểm cao nhất\n",
        "* Điểm thấp nhất\n",
        "* Miền giá trị của điểm (cao nhất trừ thấp nhất)\n",
        "* Giá trị trung vị (Sắp xếp các điểm theo thứ tự tăng dần. Nếu # học sinh là số lẻ, bạn có thể lấy giá trị nằm ở giữa của tất cả các điểm (tức là [0, 50, 100] — trung vị là 50). Nếu # học sinh là chẵn bạn có thể tính giá trị trung vị bằng cách lấy giá trị trung bình của hai giá trị giữa (tức là [0, 50, 60, 100] — giá trị trung vị là 55)).\n",
        "\n",
        "*Gợi ý: Khi đã cho điểm các học sinh, bạn nên sử dụng một list để lưu trữ điểm số của từng học sinh; sau đó bạn có thể tính toán số liệu thống kê sau khi đã kiểm tra mọi học sinh trong tệp.*"
      ]
    },
    {
      "cell_type": "markdown",
      "metadata": {
        "id": "OdJjHHDf5EoS"
      },
      "source": [
        "#Task 3 result"
      ]
    },
    {
      "cell_type": "code",
      "metadata": {
        "colab": {
          "base_uri": "https://localhost:8080/"
        },
        "id": "lG-4CwJns1uY",
        "outputId": "d9e8393c-1a10-409d-9601-9192442a4dc3"
      },
      "source": [
        "import numpy as np\n",
        "\n",
        "students = []\n",
        "answers = []\n",
        "scores = []\n",
        "for line in valid_answers:\n",
        "  elements = line.split(\",\")\n",
        "  students.append(elements[0])\n",
        "  answers.append(elements[1:])\n",
        "\n",
        "answer_keys = \"B,A,D,D,C,B,D,A,C,C,D,B,A,B,A,C,B,D,A,C,A,A,B,D,D\".split(\",\")\n",
        "\n",
        "for student, answer in zip(students, answers):\n",
        "  score = 0\n",
        "  for choice, key in zip(answer, answer_keys):\n",
        "    if choice == \"\":\n",
        "      score+=0\n",
        "    elif choice == key:\n",
        "      score +=4\n",
        "    elif choice != key:\n",
        "      score -= 1\n",
        "  scores.append(score)\n",
        "  \n",
        "\n",
        "\n",
        "score_arr = np.array(scores)\n",
        "\n",
        "mean_score = score_arr.mean()\n",
        "max_score = score_arr.max()\n",
        "min_score = score_arr.min()\n",
        "range = max_score - min_score\n",
        "median_score = np.median(score_arr)\n",
        "\n",
        "print('Mean (average) score:', mean_score)\n",
        "print('Highest score:', max_score)\n",
        "print('Lowest score:', min_score)\n",
        "print('Range of scores:', range)\n",
        "print('Median score:', median_score)\n",
        "\n"
      ],
      "execution_count": null,
      "outputs": [
        {
          "output_type": "stream",
          "name": "stdout",
          "text": [
            "Mean (average) score: 76.24\n",
            "Highest score: 96\n",
            "Lowest score: 56\n",
            "Range of scores: 40\n",
            "Median score: 77.0\n"
          ]
        }
      ]
    },
    {
      "cell_type": "markdown",
      "metadata": {
        "id": "aPqmHGoO3A7g"
      },
      "source": [
        "#Task 4"
      ]
    },
    {
      "cell_type": "markdown",
      "metadata": {
        "id": "P74uHqpj3ElE"
      },
      "source": [
        "Cuối cùng, yêu cầu chương trình của bạn tạo một tệp “kết quả” chứa các kết quả chi tiết cho từng học sinh trong lớp của bạn. Mỗi dòng của tệp này phải chứa số ID của học sinh, dấu phẩy và sau đó là điểm của họ. Bạn nên đặt tên tệp này dựa trên tên tệp gốc được cung cấp — ví dụ: nếu người dùng muốn phân tích “class1.txt”, bạn nên lưu trữ kết quả trong tệp có tên “class1_grades.txt”."
      ]
    },
    {
      "cell_type": "markdown",
      "metadata": {
        "id": "iM_5CXND5Yba"
      },
      "source": [
        "#Task 4 result"
      ]
    },
    {
      "cell_type": "code",
      "metadata": {
        "id": "PFj29r5E3G73"
      },
      "source": [
        "path_elements = path.split('.')\n",
        "result_path = path_elements[0] + '_grades.' + path_elements[1]\n",
        "with open(result_path, 'w+') as writefile:\n",
        "  for student, score in zip(students,scores):\n",
        "    writefile.write('{},{}\\n'.format(student, score))\n",
        "\n"
      ],
      "execution_count": null,
      "outputs": []
    },
    {
      "cell_type": "code",
      "metadata": {
        "colab": {
          "base_uri": "https://localhost:8080/"
        },
        "id": "7GEuHXY0375B",
        "outputId": "84d2663b-0171-45e9-eaab-903c926169b1"
      },
      "source": [
        "with open(result_path, 'r') as file:\n",
        "  print(file.read())"
      ],
      "execution_count": null,
      "outputs": [
        {
          "output_type": "stream",
          "name": "stdout",
          "text": [
            "N00000046,83\n",
            "N00000047,59\n",
            "N00000048,86\n",
            "N00000049,78\n",
            "N00000050,58\n",
            "N00000051,72\n",
            "N00000052,82\n",
            "N00000053,80\n",
            "N00000054,61\n",
            "N00000055,71\n",
            "N00000056,59\n",
            "N00000057,80\n",
            "N00000058,77\n",
            "N00000059,73\n",
            "N00000060,72\n",
            "N00000061,72\n",
            "N00000062,77\n",
            "N00000063,86\n",
            "N00000064,68\n",
            "N00000065,78\n",
            "N00000066,87\n",
            "N00000067,73\n",
            "N00000068,63\n",
            "N00000069,87\n",
            "N00000070,87\n",
            "N00000071,72\n",
            "N00000072,77\n",
            "N00000073,83\n",
            "N00000074,79\n",
            "N00000075,86\n",
            "N00000076,86\n",
            "N00000077,69\n",
            "N00000078,82\n",
            "N00000079,73\n",
            "N00000080,81\n",
            "N00000081,64\n",
            "N00000082,91\n",
            "N00000083,85\n",
            "N00000084,86\n",
            "N00000085,71\n",
            "N00000086,83\n",
            "N00000087,81\n",
            "N00000088,79\n",
            "N00000089,86\n",
            "N00000090,65\n",
            "N00000091,63\n",
            "N00000092,80\n",
            "N00000093,72\n",
            "N00000094,73\n",
            "N00000095,96\n",
            "N00000096,77\n",
            "N00000097,86\n",
            "N00000098,68\n",
            "N00000099,86\n",
            "N00000100,76\n",
            "N00000101,82\n",
            "N00000102,69\n",
            "N00000103,77\n",
            "N00000104,82\n",
            "N00000105,86\n",
            "N00000106,85\n",
            "N00000107,63\n",
            "N00000108,82\n",
            "N00000109,56\n",
            "N00000110,78\n",
            "N00000111,62\n",
            "N00000112,74\n",
            "N00000113,69\n",
            "N00000114,77\n",
            "N00000115,59\n",
            "N00000116,82\n",
            "N00000117,79\n",
            "N00000118,81\n",
            "N00000119,88\n",
            "N00000120,82\n",
            "N00000121,64\n",
            "N00000122,73\n",
            "N00000123,73\n",
            "N00000124,87\n",
            "N00000125,58\n",
            "N00000126,87\n",
            "N00000127,76\n",
            "N00000128,62\n",
            "N00000129,76\n",
            "N00000130,78\n",
            "N00000131,70\n",
            "N00000132,96\n",
            "N00000133,65\n",
            "N00000134,82\n",
            "N00000135,67\n",
            "N00000136,68\n",
            "N00000137,82\n",
            "N00000138,81\n",
            "N00000139,72\n",
            "N00000140,73\n",
            "N00000141,73\n",
            "N00000142,87\n",
            "N00000143,75\n",
            "N00000144,80\n",
            "N00000145,81\n",
            "\n"
          ]
        }
      ]
    },
    {
      "cell_type": "code",
      "metadata": {
        "id": "MU_D-pYl4qXS"
      },
      "source": [
        ""
      ],
      "execution_count": null,
      "outputs": []
    }
  ]
}